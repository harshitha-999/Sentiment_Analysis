{
  "nbformat": 4,
  "nbformat_minor": 0,
  "metadata": {
    "colab": {
      "name": "Analyzer",
      "provenance": [],
      "collapsed_sections": [],
      "include_colab_link": true
    },
    "kernelspec": {
      "display_name": "Python 3",
      "name": "python3"
    }
  },
  "cells": [
    {
      "cell_type": "markdown",
      "metadata": {
        "id": "view-in-github",
        "colab_type": "text"
      },
      "source": [
        "<a href=\"https://colab.research.google.com/github/harshitha-999/Sentiment_Analysis/blob/master/Analyzer.ipynb\" target=\"_parent\"><img src=\"https://colab.research.google.com/assets/colab-badge.svg\" alt=\"Open In Colab\"/></a>"
      ]
    },
    {
      "cell_type": "code",
      "metadata": {
        "id": "7BLG2O_269ER"
      },
      "source": [
        "import numpy as np\n",
        "import pandas as pd\n",
        "import re\n",
        "import string\n",
        "import seaborn as sns\n",
        "import pickle\n",
        "from nltk.tokenize import word_tokenize\n",
        "from nltk.corpus import stopwords\n",
        "from sklearn.model_selection import train_test_split\n",
        "from sklearn.feature_extraction.text import TfidfVectorizer\n",
        "from sklearn.linear_model import LogisticRegression\n",
        "from sklearn.pipeline import Pipeline\n",
        "from sklearn.utils.multiclass import unique_labels"
      ],
      "execution_count": null,
      "outputs": []
    },
    {
      "cell_type": "code",
      "metadata": {
        "id": "awBpiXkN7MQZ",
        "colab": {
          "base_uri": "https://localhost:8080/"
        },
        "outputId": "e8a86722-bb99-4195-bfb8-01a880685195"
      },
      "source": [
        "from google.colab import drive\n",
        "drive.mount('/content/drive')"
      ],
      "execution_count": null,
      "outputs": [
        {
          "output_type": "stream",
          "text": [
            "Drive already mounted at /content/drive; to attempt to forcibly remount, call drive.mount(\"/content/drive\", force_remount=True).\n"
          ],
          "name": "stdout"
        }
      ]
    },
    {
      "cell_type": "code",
      "metadata": {
        "id": "_qVtrAoZ7Uxf",
        "colab": {
          "base_uri": "https://localhost:8080/",
          "height": 202
        },
        "outputId": "b37cd85d-f13d-4252-c3e0-ed5b1e878cd5"
      },
      "source": [
        "traindata = pd.read_csv('/content/drive/MyDrive/ml/train.csv')\n",
        "traindata.rename(columns={'Is_Response':'Status'},inplace=True)\n",
        "traindata.head()"
      ],
      "execution_count": null,
      "outputs": [
        {
          "output_type": "execute_result",
          "data": {
            "text/html": [
              "<div>\n",
              "<style scoped>\n",
              "    .dataframe tbody tr th:only-of-type {\n",
              "        vertical-align: middle;\n",
              "    }\n",
              "\n",
              "    .dataframe tbody tr th {\n",
              "        vertical-align: top;\n",
              "    }\n",
              "\n",
              "    .dataframe thead th {\n",
              "        text-align: right;\n",
              "    }\n",
              "</style>\n",
              "<table border=\"1\" class=\"dataframe\">\n",
              "  <thead>\n",
              "    <tr style=\"text-align: right;\">\n",
              "      <th></th>\n",
              "      <th>User_ID</th>\n",
              "      <th>Description</th>\n",
              "      <th>Browser_Used</th>\n",
              "      <th>Device_Used</th>\n",
              "      <th>Status</th>\n",
              "    </tr>\n",
              "  </thead>\n",
              "  <tbody>\n",
              "    <tr>\n",
              "      <th>0</th>\n",
              "      <td>id10326</td>\n",
              "      <td>The room was kind of clean but had a VERY stro...</td>\n",
              "      <td>Edge</td>\n",
              "      <td>Mobile</td>\n",
              "      <td>not happy</td>\n",
              "    </tr>\n",
              "    <tr>\n",
              "      <th>1</th>\n",
              "      <td>id10327</td>\n",
              "      <td>I stayed at the Crown Plaza April -- - April -...</td>\n",
              "      <td>Internet Explorer</td>\n",
              "      <td>Mobile</td>\n",
              "      <td>not happy</td>\n",
              "    </tr>\n",
              "    <tr>\n",
              "      <th>2</th>\n",
              "      <td>id10328</td>\n",
              "      <td>I booked this hotel through Hotwire at the low...</td>\n",
              "      <td>Mozilla</td>\n",
              "      <td>Tablet</td>\n",
              "      <td>not happy</td>\n",
              "    </tr>\n",
              "    <tr>\n",
              "      <th>3</th>\n",
              "      <td>id10329</td>\n",
              "      <td>Stayed here with husband and sons on the way t...</td>\n",
              "      <td>InternetExplorer</td>\n",
              "      <td>Desktop</td>\n",
              "      <td>happy</td>\n",
              "    </tr>\n",
              "    <tr>\n",
              "      <th>4</th>\n",
              "      <td>id10330</td>\n",
              "      <td>My girlfriends and I stayed here to celebrate ...</td>\n",
              "      <td>Edge</td>\n",
              "      <td>Tablet</td>\n",
              "      <td>not happy</td>\n",
              "    </tr>\n",
              "  </tbody>\n",
              "</table>\n",
              "</div>"
            ],
            "text/plain": [
              "   User_ID  ...     Status\n",
              "0  id10326  ...  not happy\n",
              "1  id10327  ...  not happy\n",
              "2  id10328  ...  not happy\n",
              "3  id10329  ...      happy\n",
              "4  id10330  ...  not happy\n",
              "\n",
              "[5 rows x 5 columns]"
            ]
          },
          "metadata": {
            "tags": []
          },
          "execution_count": 309
        }
      ]
    },
    {
      "cell_type": "code",
      "metadata": {
        "id": "JE81bYcS7Y2A",
        "colab": {
          "base_uri": "https://localhost:8080/"
        },
        "outputId": "2c0c05f0-34f2-4bb6-cc52-4f55c8733bbf"
      },
      "source": [
        "traindata.info()"
      ],
      "execution_count": null,
      "outputs": [
        {
          "output_type": "stream",
          "text": [
            "<class 'pandas.core.frame.DataFrame'>\n",
            "RangeIndex: 38932 entries, 0 to 38931\n",
            "Data columns (total 5 columns):\n",
            " #   Column        Non-Null Count  Dtype \n",
            "---  ------        --------------  ----- \n",
            " 0   User_ID       38932 non-null  object\n",
            " 1   Description   38932 non-null  object\n",
            " 2   Browser_Used  38932 non-null  object\n",
            " 3   Device_Used   38932 non-null  object\n",
            " 4   Status        38932 non-null  object\n",
            "dtypes: object(5)\n",
            "memory usage: 1.5+ MB\n"
          ],
          "name": "stdout"
        }
      ]
    },
    {
      "cell_type": "code",
      "metadata": {
        "colab": {
          "base_uri": "https://localhost:8080/"
        },
        "id": "Z5qrxTHXzekO",
        "outputId": "104b9770-bf58-4908-9be2-e3608a0244db"
      },
      "source": [
        "traindata.isna().sum()"
      ],
      "execution_count": null,
      "outputs": [
        {
          "output_type": "execute_result",
          "data": {
            "text/plain": [
              "User_ID         0\n",
              "Description     0\n",
              "Browser_Used    0\n",
              "Device_Used     0\n",
              "Status          0\n",
              "dtype: int64"
            ]
          },
          "metadata": {
            "tags": []
          },
          "execution_count": 311
        }
      ]
    },
    {
      "cell_type": "code",
      "metadata": {
        "id": "rlHq5FAi7ctn",
        "colab": {
          "base_uri": "https://localhost:8080/",
          "height": 264
        },
        "outputId": "ab3db3de-aec9-4f30-dcf4-b1265fbfe694"
      },
      "source": [
        "import matplotlib.pyplot as plt\n",
        "%matplotlib inline\n",
        "round(traindata.Status.value_counts(normalize=True)*100,20).plot(kind='pie')\n",
        "plt.title('Analysis for Train dataset')\n",
        "plt.show()"
      ],
      "execution_count": null,
      "outputs": [
        {
          "output_type": "display_data",
          "data": {
            "image/png": "[encoded data removed]",
            "text/plain": [
              "<Figure size 432x288 with 1 Axes>"
            ]
          },
          "metadata": {
            "tags": []
          }
        }
      ]
    },
    {
      "cell_type": "code",
      "metadata": {
        "id": "pxKLskyu7igE",
        "colab": {
          "base_uri": "https://localhost:8080/"
        },
        "outputId": "622b3b1d-2b2f-46d5-dcde-b935bc2ca7c9"
      },
      "source": [
        "traindata.shape\n"
      ],
      "execution_count": null,
      "outputs": [
        {
          "output_type": "execute_result",
          "data": {
            "text/plain": [
              "(38932, 5)"
            ]
          },
          "metadata": {
            "tags": []
          },
          "execution_count": 313
        }
      ]
    },
    {
      "cell_type": "code",
      "metadata": {
        "id": "uyDMAfSq7maY"
      },
      "source": [
        "def removing_apostrophe(text):\n",
        "    text = re.sub(\"won't\", \"will not\", text)\n",
        "    text = re.sub(\"can't\", \"can not\", text)\n",
        "    text = re.sub(\"'t've\", \" not have\", text)\n",
        "    text = re.sub(\"'d've\", \" would have\", text)\n",
        "    text = re.sub(\"'cause\", \" because\", text)\n",
        "    text = re.sub(\"n't\", \" not\", text) \n",
        "    text = re.sub(\"'re\", \" are\", text)\n",
        "    text = re.sub(\"'s\", \" is\", text)\n",
        "    text = re.sub(\"'d\", \" would\", text)\n",
        "    text = re.sub(\"'ll\", \" will\", text)\n",
        "    #text = re.sub(\"'t\", \" not\", text)\n",
        "    text = re.sub(\"'ve\", \" have\", text)\n",
        "    text = re.sub(\"'m\", \" am\", text)\n",
        "    return text\n"
      ],
      "execution_count": null,
      "outputs": []
    },
    {
      "cell_type": "code",
      "metadata": {
        "id": "H2AB7_k97p5K"
      },
      "source": [
        "def clean_data(text):\n",
        "  text=removing_apostrophe(text)\n",
        "  text = text.lower()\n",
        "  text = re.sub('[%s]' % re.escape(string.punctuation), '', text)\n",
        "  text = word_tokenize(text)\n",
        "  return text\n",
        "\n",
        "new = lambda x :clean_data(x)"
      ],
      "execution_count": null,
      "outputs": []
    },
    {
      "cell_type": "code",
      "metadata": {
        "id": "v-Oaa4O99IOk"
      },
      "source": [
        "traindata.drop(columns = ['User_ID', 'Browser_Used', 'Device_Used'],inplace=True)\n",
        "traindata['NewDescription'] = pd.DataFrame(traindata.Description.apply(new))\n"
      ],
      "execution_count": null,
      "outputs": []
    },
    {
      "cell_type": "code",
      "metadata": {
        "id": "3et4Ayha9L6o",
        "colab": {
          "base_uri": "https://localhost:8080/",
          "height": 662
        },
        "outputId": "6e551d60-1bc5-4f04-91ba-74c71f4a971a"
      },
      "source": [
        "traindata.head(20)\n"
      ],
      "execution_count": null,
      "outputs": [
        {
          "output_type": "execute_result",
          "data": {
            "text/html": [
              "<div>\n",
              "<style scoped>\n",
              "    .dataframe tbody tr th:only-of-type {\n",
              "        vertical-align: middle;\n",
              "    }\n",
              "\n",
              "    .dataframe tbody tr th {\n",
              "        vertical-align: top;\n",
              "    }\n",
              "\n",
              "    .dataframe thead th {\n",
              "        text-align: right;\n",
              "    }\n",
              "</style>\n",
              "<table border=\"1\" class=\"dataframe\">\n",
              "  <thead>\n",
              "    <tr style=\"text-align: right;\">\n",
              "      <th></th>\n",
              "      <th>Description</th>\n",
              "      <th>Status</th>\n",
              "      <th>NewDescription</th>\n",
              "    </tr>\n",
              "  </thead>\n",
              "  <tbody>\n",
              "    <tr>\n",
              "      <th>0</th>\n",
              "      <td>The room was kind of clean but had a VERY stro...</td>\n",
              "      <td>not happy</td>\n",
              "      <td>the room was kind of clean but had a very stro...</td>\n",
              "    </tr>\n",
              "    <tr>\n",
              "      <th>1</th>\n",
              "      <td>I stayed at the Crown Plaza April -- - April -...</td>\n",
              "      <td>not happy</td>\n",
              "      <td>i stayed at the crown plaza april   april   th...</td>\n",
              "    </tr>\n",
              "    <tr>\n",
              "      <th>2</th>\n",
              "      <td>I booked this hotel through Hotwire at the low...</td>\n",
              "      <td>not happy</td>\n",
              "      <td>i booked this hotel through hotwire at the low...</td>\n",
              "    </tr>\n",
              "    <tr>\n",
              "      <th>3</th>\n",
              "      <td>Stayed here with husband and sons on the way t...</td>\n",
              "      <td>happy</td>\n",
              "      <td>stayed here with husband and sons on the way t...</td>\n",
              "    </tr>\n",
              "    <tr>\n",
              "      <th>4</th>\n",
              "      <td>My girlfriends and I stayed here to celebrate ...</td>\n",
              "      <td>not happy</td>\n",
              "      <td>my girlfriends and i stayed here to celebrate ...</td>\n",
              "    </tr>\n",
              "    <tr>\n",
              "      <th>5</th>\n",
              "      <td>We had - rooms. One was very nice and clearly ...</td>\n",
              "      <td>happy</td>\n",
              "      <td>we had  rooms one was very nice and clearly ha...</td>\n",
              "    </tr>\n",
              "    <tr>\n",
              "      <th>6</th>\n",
              "      <td>My husband and I have stayed in this hotel a f...</td>\n",
              "      <td>not happy</td>\n",
              "      <td>my husband and i have stayed in this hotel a f...</td>\n",
              "    </tr>\n",
              "    <tr>\n",
              "      <th>7</th>\n",
              "      <td>My wife &amp; I stayed in this glorious city a whi...</td>\n",
              "      <td>happy</td>\n",
              "      <td>my wife  i stayed in this glorious city a whil...</td>\n",
              "    </tr>\n",
              "    <tr>\n",
              "      <th>8</th>\n",
              "      <td>My boyfriend and I stayed at the Fairmont on a...</td>\n",
              "      <td>happy</td>\n",
              "      <td>my boyfriend and i stayed at the fairmont on a...</td>\n",
              "    </tr>\n",
              "    <tr>\n",
              "      <th>9</th>\n",
              "      <td>Wonderful staff, great location, but it was de...</td>\n",
              "      <td>not happy</td>\n",
              "      <td>wonderful staff great location but it was defi...</td>\n",
              "    </tr>\n",
              "    <tr>\n",
              "      <th>10</th>\n",
              "      <td>Steps off Times Square, nice rooms, stayed - n...</td>\n",
              "      <td>happy</td>\n",
              "      <td>steps off times square nice rooms stayed  nigh...</td>\n",
              "    </tr>\n",
              "    <tr>\n",
              "      <th>11</th>\n",
              "      <td>Me, the Wife and - kids stayed here on Valenti...</td>\n",
              "      <td>happy</td>\n",
              "      <td>me the wife and  kids stayed here on valentine...</td>\n",
              "    </tr>\n",
              "    <tr>\n",
              "      <th>12</th>\n",
              "      <td>We stay at the Jolly Madison over the Xmas per...</td>\n",
              "      <td>not happy</td>\n",
              "      <td>we stay at the jolly madison over the xmas per...</td>\n",
              "    </tr>\n",
              "    <tr>\n",
              "      <th>13</th>\n",
              "      <td>I highly recommend the Hawthorne Terrace as an...</td>\n",
              "      <td>happy</td>\n",
              "      <td>i highly recommend the hawthorne terrace as an...</td>\n",
              "    </tr>\n",
              "    <tr>\n",
              "      <th>14</th>\n",
              "      <td>I found the hotel clean and nicely located. Go...</td>\n",
              "      <td>happy</td>\n",
              "      <td>i found the hotel clean and nicely located goo...</td>\n",
              "    </tr>\n",
              "    <tr>\n",
              "      <th>15</th>\n",
              "      <td>Stayed at the Elan from --th to --th October a...</td>\n",
              "      <td>happy</td>\n",
              "      <td>stayed at the elan from th to th october and a...</td>\n",
              "    </tr>\n",
              "    <tr>\n",
              "      <th>16</th>\n",
              "      <td>Priceline sent us to this hotel after acceptin...</td>\n",
              "      <td>not happy</td>\n",
              "      <td>priceline sent us to this hotel after acceptin...</td>\n",
              "    </tr>\n",
              "    <tr>\n",
              "      <th>17</th>\n",
              "      <td>Old and cheap furnitures,our chair was simply ...</td>\n",
              "      <td>not happy</td>\n",
              "      <td>old and cheap furnituresour chair was simply d...</td>\n",
              "    </tr>\n",
              "    <tr>\n",
              "      <th>18</th>\n",
              "      <td>We stayed here for - nights and were really ha...</td>\n",
              "      <td>happy</td>\n",
              "      <td>we stayed here for  nights and were really hap...</td>\n",
              "    </tr>\n",
              "    <tr>\n",
              "      <th>19</th>\n",
              "      <td>The service was fine, but the hotel itself fel...</td>\n",
              "      <td>not happy</td>\n",
              "      <td>the service was fine but the hotel itself fell...</td>\n",
              "    </tr>\n",
              "  </tbody>\n",
              "</table>\n",
              "</div>"
            ],
            "text/plain": [
              "                                          Description  ...                                     NewDescription\n",
              "0   The room was kind of clean but had a VERY stro...  ...  the room was kind of clean but had a very stro...\n",
              "1   I stayed at the Crown Plaza April -- - April -...  ...  i stayed at the crown plaza april   april   th...\n",
              "2   I booked this hotel through Hotwire at the low...  ...  i booked this hotel through hotwire at the low...\n",
              "3   Stayed here with husband and sons on the way t...  ...  stayed here with husband and sons on the way t...\n",
              "4   My girlfriends and I stayed here to celebrate ...  ...  my girlfriends and i stayed here to celebrate ...\n",
              "5   We had - rooms. One was very nice and clearly ...  ...  we had  rooms one was very nice and clearly ha...\n",
              "6   My husband and I have stayed in this hotel a f...  ...  my husband and i have stayed in this hotel a f...\n",
              "7   My wife & I stayed in this glorious city a whi...  ...  my wife  i stayed in this glorious city a whil...\n",
              "8   My boyfriend and I stayed at the Fairmont on a...  ...  my boyfriend and i stayed at the fairmont on a...\n",
              "9   Wonderful staff, great location, but it was de...  ...  wonderful staff great location but it was defi...\n",
              "10  Steps off Times Square, nice rooms, stayed - n...  ...  steps off times square nice rooms stayed  nigh...\n",
              "11  Me, the Wife and - kids stayed here on Valenti...  ...  me the wife and  kids stayed here on valentine...\n",
              "12  We stay at the Jolly Madison over the Xmas per...  ...  we stay at the jolly madison over the xmas per...\n",
              "13  I highly recommend the Hawthorne Terrace as an...  ...  i highly recommend the hawthorne terrace as an...\n",
              "14  I found the hotel clean and nicely located. Go...  ...  i found the hotel clean and nicely located goo...\n",
              "15  Stayed at the Elan from --th to --th October a...  ...  stayed at the elan from th to th october and a...\n",
              "16  Priceline sent us to this hotel after acceptin...  ...  priceline sent us to this hotel after acceptin...\n",
              "17  Old and cheap furnitures,our chair was simply ...  ...  old and cheap furnituresour chair was simply d...\n",
              "18  We stayed here for - nights and were really ha...  ...  we stayed here for  nights and were really hap...\n",
              "19  The service was fine, but the hotel itself fel...  ...  the service was fine but the hotel itself fell...\n",
              "\n",
              "[20 rows x 3 columns]"
            ]
          },
          "metadata": {
            "tags": []
          },
          "execution_count": 317
        }
      ]
    },
    {
      "cell_type": "code",
      "metadata": {
        "colab": {
          "base_uri": "https://localhost:8080/"
        },
        "id": "W4ePpEdnaISv",
        "outputId": "763c7b3e-0da0-4552-8a04-8ece493cf111"
      },
      "source": [
        "import nltk\n",
        "nltk.download('punkt')"
      ],
      "execution_count": null,
      "outputs": [
        {
          "output_type": "stream",
          "text": [
            "[nltk_data] Downloading package punkt to /root/nltk_data...\n",
            "[nltk_data]   Package punkt is already up-to-date!\n"
          ],
          "name": "stdout"
        },
        {
          "output_type": "execute_result",
          "data": {
            "text/plain": [
              "True"
            ]
          },
          "metadata": {
            "tags": []
          },
          "execution_count": 320
        }
      ]
    },
    {
      "cell_type": "code",
      "metadata": {
        "id": "Ery0ax5q-QK5",
        "colab": {
          "base_uri": "https://localhost:8080/",
          "height": 697
        },
        "outputId": "1949a084-eec6-4ee1-fa4c-d871d86c59b4"
      },
      "source": [
        "\n",
        "nltk.download('stopwords')\n",
        "STOPWORDS = set(stopwords.words('english'))\n",
        "def remove_stopwords(text):\n",
        "  return \" \".join([word for word in str(text).split() if word not in STOPWORDS])\n",
        "traindata[\"NewDescription\"] = traindata[\"NewDescription\"].apply(lambda text: remove_stopwords(text))\n",
        "traindata.head(20)"
      ],
      "execution_count": null,
      "outputs": [
        {
          "output_type": "stream",
          "text": [
            "[nltk_data] Downloading package stopwords to /root/nltk_data...\n",
            "[nltk_data]   Package stopwords is already up-to-date!\n"
          ],
          "name": "stdout"
        },
        {
          "output_type": "execute_result",
          "data": {
            "text/html": [
              "<div>\n",
              "<style scoped>\n",
              "    .dataframe tbody tr th:only-of-type {\n",
              "        vertical-align: middle;\n",
              "    }\n",
              "\n",
              "    .dataframe tbody tr th {\n",
              "        vertical-align: top;\n",
              "    }\n",
              "\n",
              "    .dataframe thead th {\n",
              "        text-align: right;\n",
              "    }\n",
              "</style>\n",
              "<table border=\"1\" class=\"dataframe\">\n",
              "  <thead>\n",
              "    <tr style=\"text-align: right;\">\n",
              "      <th></th>\n",
              "      <th>Description</th>\n",
              "      <th>Status</th>\n",
              "      <th>NewDescription</th>\n",
              "    </tr>\n",
              "  </thead>\n",
              "  <tbody>\n",
              "    <tr>\n",
              "      <th>0</th>\n",
              "      <td>The room was kind of clean but had a VERY stro...</td>\n",
              "      <td>not happy</td>\n",
              "      <td>['the', 'room', 'was', 'kind', 'of', 'clean', ...</td>\n",
              "    </tr>\n",
              "    <tr>\n",
              "      <th>1</th>\n",
              "      <td>I stayed at the Crown Plaza April -- - April -...</td>\n",
              "      <td>not happy</td>\n",
              "      <td>['i', 'stayed', 'at', 'the', 'crown', 'plaza',...</td>\n",
              "    </tr>\n",
              "    <tr>\n",
              "      <th>2</th>\n",
              "      <td>I booked this hotel through Hotwire at the low...</td>\n",
              "      <td>not happy</td>\n",
              "      <td>['i', 'booked', 'this', 'hotel', 'through', 'h...</td>\n",
              "    </tr>\n",
              "    <tr>\n",
              "      <th>3</th>\n",
              "      <td>Stayed here with husband and sons on the way t...</td>\n",
              "      <td>happy</td>\n",
              "      <td>['stayed', 'here', 'with', 'husband', 'and', '...</td>\n",
              "    </tr>\n",
              "    <tr>\n",
              "      <th>4</th>\n",
              "      <td>My girlfriends and I stayed here to celebrate ...</td>\n",
              "      <td>not happy</td>\n",
              "      <td>['my', 'girlfriends', 'and', 'i', 'stayed', 'h...</td>\n",
              "    </tr>\n",
              "    <tr>\n",
              "      <th>5</th>\n",
              "      <td>We had - rooms. One was very nice and clearly ...</td>\n",
              "      <td>happy</td>\n",
              "      <td>['we', 'had', 'rooms', 'one', 'was', 'very', '...</td>\n",
              "    </tr>\n",
              "    <tr>\n",
              "      <th>6</th>\n",
              "      <td>My husband and I have stayed in this hotel a f...</td>\n",
              "      <td>not happy</td>\n",
              "      <td>['my', 'husband', 'and', 'i', 'have', 'stayed'...</td>\n",
              "    </tr>\n",
              "    <tr>\n",
              "      <th>7</th>\n",
              "      <td>My wife &amp; I stayed in this glorious city a whi...</td>\n",
              "      <td>happy</td>\n",
              "      <td>['my', 'wife', 'i', 'stayed', 'in', 'this', 'g...</td>\n",
              "    </tr>\n",
              "    <tr>\n",
              "      <th>8</th>\n",
              "      <td>My boyfriend and I stayed at the Fairmont on a...</td>\n",
              "      <td>happy</td>\n",
              "      <td>['my', 'boyfriend', 'and', 'i', 'stayed', 'at'...</td>\n",
              "    </tr>\n",
              "    <tr>\n",
              "      <th>9</th>\n",
              "      <td>Wonderful staff, great location, but it was de...</td>\n",
              "      <td>not happy</td>\n",
              "      <td>['wonderful', 'staff', 'great', 'location', 'b...</td>\n",
              "    </tr>\n",
              "    <tr>\n",
              "      <th>10</th>\n",
              "      <td>Steps off Times Square, nice rooms, stayed - n...</td>\n",
              "      <td>happy</td>\n",
              "      <td>['steps', 'off', 'times', 'square', 'nice', 'r...</td>\n",
              "    </tr>\n",
              "    <tr>\n",
              "      <th>11</th>\n",
              "      <td>Me, the Wife and - kids stayed here on Valenti...</td>\n",
              "      <td>happy</td>\n",
              "      <td>['me', 'the', 'wife', 'and', 'kids', 'stayed',...</td>\n",
              "    </tr>\n",
              "    <tr>\n",
              "      <th>12</th>\n",
              "      <td>We stay at the Jolly Madison over the Xmas per...</td>\n",
              "      <td>not happy</td>\n",
              "      <td>['we', 'stay', 'at', 'the', 'jolly', 'madison'...</td>\n",
              "    </tr>\n",
              "    <tr>\n",
              "      <th>13</th>\n",
              "      <td>I highly recommend the Hawthorne Terrace as an...</td>\n",
              "      <td>happy</td>\n",
              "      <td>['i', 'highly', 'recommend', 'the', 'hawthorne...</td>\n",
              "    </tr>\n",
              "    <tr>\n",
              "      <th>14</th>\n",
              "      <td>I found the hotel clean and nicely located. Go...</td>\n",
              "      <td>happy</td>\n",
              "      <td>['i', 'found', 'the', 'hotel', 'clean', 'and',...</td>\n",
              "    </tr>\n",
              "    <tr>\n",
              "      <th>15</th>\n",
              "      <td>Stayed at the Elan from --th to --th October a...</td>\n",
              "      <td>happy</td>\n",
              "      <td>['stayed', 'at', 'the', 'elan', 'from', 'th', ...</td>\n",
              "    </tr>\n",
              "    <tr>\n",
              "      <th>16</th>\n",
              "      <td>Priceline sent us to this hotel after acceptin...</td>\n",
              "      <td>not happy</td>\n",
              "      <td>['priceline', 'sent', 'us', 'to', 'this', 'hot...</td>\n",
              "    </tr>\n",
              "    <tr>\n",
              "      <th>17</th>\n",
              "      <td>Old and cheap furnitures,our chair was simply ...</td>\n",
              "      <td>not happy</td>\n",
              "      <td>['old', 'and', 'cheap', 'furnituresour', 'chai...</td>\n",
              "    </tr>\n",
              "    <tr>\n",
              "      <th>18</th>\n",
              "      <td>We stayed here for - nights and were really ha...</td>\n",
              "      <td>happy</td>\n",
              "      <td>['we', 'stayed', 'here', 'for', 'nights', 'and...</td>\n",
              "    </tr>\n",
              "    <tr>\n",
              "      <th>19</th>\n",
              "      <td>The service was fine, but the hotel itself fel...</td>\n",
              "      <td>not happy</td>\n",
              "      <td>['the', 'service', 'was', 'fine', 'but', 'the'...</td>\n",
              "    </tr>\n",
              "  </tbody>\n",
              "</table>\n",
              "</div>"
            ],
            "text/plain": [
              "                                          Description  ...                                     NewDescription\n",
              "0   The room was kind of clean but had a VERY stro...  ...  ['the', 'room', 'was', 'kind', 'of', 'clean', ...\n",
              "1   I stayed at the Crown Plaza April -- - April -...  ...  ['i', 'stayed', 'at', 'the', 'crown', 'plaza',...\n",
              "2   I booked this hotel through Hotwire at the low...  ...  ['i', 'booked', 'this', 'hotel', 'through', 'h...\n",
              "3   Stayed here with husband and sons on the way t...  ...  ['stayed', 'here', 'with', 'husband', 'and', '...\n",
              "4   My girlfriends and I stayed here to celebrate ...  ...  ['my', 'girlfriends', 'and', 'i', 'stayed', 'h...\n",
              "5   We had - rooms. One was very nice and clearly ...  ...  ['we', 'had', 'rooms', 'one', 'was', 'very', '...\n",
              "6   My husband and I have stayed in this hotel a f...  ...  ['my', 'husband', 'and', 'i', 'have', 'stayed'...\n",
              "7   My wife & I stayed in this glorious city a whi...  ...  ['my', 'wife', 'i', 'stayed', 'in', 'this', 'g...\n",
              "8   My boyfriend and I stayed at the Fairmont on a...  ...  ['my', 'boyfriend', 'and', 'i', 'stayed', 'at'...\n",
              "9   Wonderful staff, great location, but it was de...  ...  ['wonderful', 'staff', 'great', 'location', 'b...\n",
              "10  Steps off Times Square, nice rooms, stayed - n...  ...  ['steps', 'off', 'times', 'square', 'nice', 'r...\n",
              "11  Me, the Wife and - kids stayed here on Valenti...  ...  ['me', 'the', 'wife', 'and', 'kids', 'stayed',...\n",
              "12  We stay at the Jolly Madison over the Xmas per...  ...  ['we', 'stay', 'at', 'the', 'jolly', 'madison'...\n",
              "13  I highly recommend the Hawthorne Terrace as an...  ...  ['i', 'highly', 'recommend', 'the', 'hawthorne...\n",
              "14  I found the hotel clean and nicely located. Go...  ...  ['i', 'found', 'the', 'hotel', 'clean', 'and',...\n",
              "15  Stayed at the Elan from --th to --th October a...  ...  ['stayed', 'at', 'the', 'elan', 'from', 'th', ...\n",
              "16  Priceline sent us to this hotel after acceptin...  ...  ['priceline', 'sent', 'us', 'to', 'this', 'hot...\n",
              "17  Old and cheap furnitures,our chair was simply ...  ...  ['old', 'and', 'cheap', 'furnituresour', 'chai...\n",
              "18  We stayed here for - nights and were really ha...  ...  ['we', 'stayed', 'here', 'for', 'nights', 'and...\n",
              "19  The service was fine, but the hotel itself fel...  ...  ['the', 'service', 'was', 'fine', 'but', 'the'...\n",
              "\n",
              "[20 rows x 3 columns]"
            ]
          },
          "metadata": {
            "tags": []
          },
          "execution_count": 321
        }
      ]
    },
    {
      "cell_type": "code",
      "metadata": {
        "colab": {
          "base_uri": "https://localhost:8080/"
        },
        "id": "ePPVdkLyrmNg",
        "outputId": "8ea6ebe5-e647-4bd8-d119-4e1fa481db80"
      },
      "source": [
        "import nltk\n",
        "nltk.download('wordnet')"
      ],
      "execution_count": null,
      "outputs": [
        {
          "output_type": "stream",
          "text": [
            "[nltk_data] Downloading package wordnet to /root/nltk_data...\n",
            "[nltk_data]   Package wordnet is already up-to-date!\n"
          ],
          "name": "stdout"
        },
        {
          "output_type": "execute_result",
          "data": {
            "text/plain": [
              "True"
            ]
          },
          "metadata": {
            "tags": []
          },
          "execution_count": 322
        }
      ]
    },
    {
      "cell_type": "code",
      "metadata": {
        "id": "3k68pxPMrAvh",
        "colab": {
          "base_uri": "https://localhost:8080/",
          "height": 662
        },
        "outputId": "0d73d3c8-6227-4d9a-e297-c227ef9d3942"
      },
      "source": [
        "from nltk.stem import WordNetLemmatizer\n",
        "lemmatizer = WordNetLemmatizer()\n",
        "def lemmatize_words(text):\n",
        "  return \" \".join([lemmatizer.lemmatize(word) for word in text.split()])\n",
        "\n",
        "traindata[\"NewDescription\"] = traindata[\"NewDescription\"].apply(lambda text: lemmatize_words(text))\n",
        "traindata.head(20)"
      ],
      "execution_count": null,
      "outputs": [
        {
          "output_type": "execute_result",
          "data": {
            "text/html": [
              "<div>\n",
              "<style scoped>\n",
              "    .dataframe tbody tr th:only-of-type {\n",
              "        vertical-align: middle;\n",
              "    }\n",
              "\n",
              "    .dataframe tbody tr th {\n",
              "        vertical-align: top;\n",
              "    }\n",
              "\n",
              "    .dataframe thead th {\n",
              "        text-align: right;\n",
              "    }\n",
              "</style>\n",
              "<table border=\"1\" class=\"dataframe\">\n",
              "  <thead>\n",
              "    <tr style=\"text-align: right;\">\n",
              "      <th></th>\n",
              "      <th>Description</th>\n",
              "      <th>Status</th>\n",
              "      <th>NewDescription</th>\n",
              "    </tr>\n",
              "  </thead>\n",
              "  <tbody>\n",
              "    <tr>\n",
              "      <th>0</th>\n",
              "      <td>The room was kind of clean but had a VERY stro...</td>\n",
              "      <td>not happy</td>\n",
              "      <td>['the', 'room', 'was', 'kind', 'of', 'clean', ...</td>\n",
              "    </tr>\n",
              "    <tr>\n",
              "      <th>1</th>\n",
              "      <td>I stayed at the Crown Plaza April -- - April -...</td>\n",
              "      <td>not happy</td>\n",
              "      <td>['i', 'stayed', 'at', 'the', 'crown', 'plaza',...</td>\n",
              "    </tr>\n",
              "    <tr>\n",
              "      <th>2</th>\n",
              "      <td>I booked this hotel through Hotwire at the low...</td>\n",
              "      <td>not happy</td>\n",
              "      <td>['i', 'booked', 'this', 'hotel', 'through', 'h...</td>\n",
              "    </tr>\n",
              "    <tr>\n",
              "      <th>3</th>\n",
              "      <td>Stayed here with husband and sons on the way t...</td>\n",
              "      <td>happy</td>\n",
              "      <td>['stayed', 'here', 'with', 'husband', 'and', '...</td>\n",
              "    </tr>\n",
              "    <tr>\n",
              "      <th>4</th>\n",
              "      <td>My girlfriends and I stayed here to celebrate ...</td>\n",
              "      <td>not happy</td>\n",
              "      <td>['my', 'girlfriends', 'and', 'i', 'stayed', 'h...</td>\n",
              "    </tr>\n",
              "    <tr>\n",
              "      <th>5</th>\n",
              "      <td>We had - rooms. One was very nice and clearly ...</td>\n",
              "      <td>happy</td>\n",
              "      <td>['we', 'had', 'rooms', 'one', 'was', 'very', '...</td>\n",
              "    </tr>\n",
              "    <tr>\n",
              "      <th>6</th>\n",
              "      <td>My husband and I have stayed in this hotel a f...</td>\n",
              "      <td>not happy</td>\n",
              "      <td>['my', 'husband', 'and', 'i', 'have', 'stayed'...</td>\n",
              "    </tr>\n",
              "    <tr>\n",
              "      <th>7</th>\n",
              "      <td>My wife &amp; I stayed in this glorious city a whi...</td>\n",
              "      <td>happy</td>\n",
              "      <td>['my', 'wife', 'i', 'stayed', 'in', 'this', 'g...</td>\n",
              "    </tr>\n",
              "    <tr>\n",
              "      <th>8</th>\n",
              "      <td>My boyfriend and I stayed at the Fairmont on a...</td>\n",
              "      <td>happy</td>\n",
              "      <td>['my', 'boyfriend', 'and', 'i', 'stayed', 'at'...</td>\n",
              "    </tr>\n",
              "    <tr>\n",
              "      <th>9</th>\n",
              "      <td>Wonderful staff, great location, but it was de...</td>\n",
              "      <td>not happy</td>\n",
              "      <td>['wonderful', 'staff', 'great', 'location', 'b...</td>\n",
              "    </tr>\n",
              "    <tr>\n",
              "      <th>10</th>\n",
              "      <td>Steps off Times Square, nice rooms, stayed - n...</td>\n",
              "      <td>happy</td>\n",
              "      <td>['steps', 'off', 'times', 'square', 'nice', 'r...</td>\n",
              "    </tr>\n",
              "    <tr>\n",
              "      <th>11</th>\n",
              "      <td>Me, the Wife and - kids stayed here on Valenti...</td>\n",
              "      <td>happy</td>\n",
              "      <td>['me', 'the', 'wife', 'and', 'kids', 'stayed',...</td>\n",
              "    </tr>\n",
              "    <tr>\n",
              "      <th>12</th>\n",
              "      <td>We stay at the Jolly Madison over the Xmas per...</td>\n",
              "      <td>not happy</td>\n",
              "      <td>['we', 'stay', 'at', 'the', 'jolly', 'madison'...</td>\n",
              "    </tr>\n",
              "    <tr>\n",
              "      <th>13</th>\n",
              "      <td>I highly recommend the Hawthorne Terrace as an...</td>\n",
              "      <td>happy</td>\n",
              "      <td>['i', 'highly', 'recommend', 'the', 'hawthorne...</td>\n",
              "    </tr>\n",
              "    <tr>\n",
              "      <th>14</th>\n",
              "      <td>I found the hotel clean and nicely located. Go...</td>\n",
              "      <td>happy</td>\n",
              "      <td>['i', 'found', 'the', 'hotel', 'clean', 'and',...</td>\n",
              "    </tr>\n",
              "    <tr>\n",
              "      <th>15</th>\n",
              "      <td>Stayed at the Elan from --th to --th October a...</td>\n",
              "      <td>happy</td>\n",
              "      <td>['stayed', 'at', 'the', 'elan', 'from', 'th', ...</td>\n",
              "    </tr>\n",
              "    <tr>\n",
              "      <th>16</th>\n",
              "      <td>Priceline sent us to this hotel after acceptin...</td>\n",
              "      <td>not happy</td>\n",
              "      <td>['priceline', 'sent', 'us', 'to', 'this', 'hot...</td>\n",
              "    </tr>\n",
              "    <tr>\n",
              "      <th>17</th>\n",
              "      <td>Old and cheap furnitures,our chair was simply ...</td>\n",
              "      <td>not happy</td>\n",
              "      <td>['old', 'and', 'cheap', 'furnituresour', 'chai...</td>\n",
              "    </tr>\n",
              "    <tr>\n",
              "      <th>18</th>\n",
              "      <td>We stayed here for - nights and were really ha...</td>\n",
              "      <td>happy</td>\n",
              "      <td>['we', 'stayed', 'here', 'for', 'nights', 'and...</td>\n",
              "    </tr>\n",
              "    <tr>\n",
              "      <th>19</th>\n",
              "      <td>The service was fine, but the hotel itself fel...</td>\n",
              "      <td>not happy</td>\n",
              "      <td>['the', 'service', 'was', 'fine', 'but', 'the'...</td>\n",
              "    </tr>\n",
              "  </tbody>\n",
              "</table>\n",
              "</div>"
            ],
            "text/plain": [
              "                                          Description  ...                                     NewDescription\n",
              "0   The room was kind of clean but had a VERY stro...  ...  ['the', 'room', 'was', 'kind', 'of', 'clean', ...\n",
              "1   I stayed at the Crown Plaza April -- - April -...  ...  ['i', 'stayed', 'at', 'the', 'crown', 'plaza',...\n",
              "2   I booked this hotel through Hotwire at the low...  ...  ['i', 'booked', 'this', 'hotel', 'through', 'h...\n",
              "3   Stayed here with husband and sons on the way t...  ...  ['stayed', 'here', 'with', 'husband', 'and', '...\n",
              "4   My girlfriends and I stayed here to celebrate ...  ...  ['my', 'girlfriends', 'and', 'i', 'stayed', 'h...\n",
              "5   We had - rooms. One was very nice and clearly ...  ...  ['we', 'had', 'rooms', 'one', 'was', 'very', '...\n",
              "6   My husband and I have stayed in this hotel a f...  ...  ['my', 'husband', 'and', 'i', 'have', 'stayed'...\n",
              "7   My wife & I stayed in this glorious city a whi...  ...  ['my', 'wife', 'i', 'stayed', 'in', 'this', 'g...\n",
              "8   My boyfriend and I stayed at the Fairmont on a...  ...  ['my', 'boyfriend', 'and', 'i', 'stayed', 'at'...\n",
              "9   Wonderful staff, great location, but it was de...  ...  ['wonderful', 'staff', 'great', 'location', 'b...\n",
              "10  Steps off Times Square, nice rooms, stayed - n...  ...  ['steps', 'off', 'times', 'square', 'nice', 'r...\n",
              "11  Me, the Wife and - kids stayed here on Valenti...  ...  ['me', 'the', 'wife', 'and', 'kids', 'stayed',...\n",
              "12  We stay at the Jolly Madison over the Xmas per...  ...  ['we', 'stay', 'at', 'the', 'jolly', 'madison'...\n",
              "13  I highly recommend the Hawthorne Terrace as an...  ...  ['i', 'highly', 'recommend', 'the', 'hawthorne...\n",
              "14  I found the hotel clean and nicely located. Go...  ...  ['i', 'found', 'the', 'hotel', 'clean', 'and',...\n",
              "15  Stayed at the Elan from --th to --th October a...  ...  ['stayed', 'at', 'the', 'elan', 'from', 'th', ...\n",
              "16  Priceline sent us to this hotel after acceptin...  ...  ['priceline', 'sent', 'us', 'to', 'this', 'hot...\n",
              "17  Old and cheap furnitures,our chair was simply ...  ...  ['old', 'and', 'cheap', 'furnituresour', 'chai...\n",
              "18  We stayed here for - nights and were really ha...  ...  ['we', 'stayed', 'here', 'for', 'nights', 'and...\n",
              "19  The service was fine, but the hotel itself fel...  ...  ['the', 'service', 'was', 'fine', 'but', 'the'...\n",
              "\n",
              "[20 rows x 3 columns]"
            ]
          },
          "metadata": {
            "tags": []
          },
          "execution_count": 323
        }
      ]
    },
    {
      "cell_type": "code",
      "metadata": {
        "id": "Z1Nj3-67M3eh",
        "colab": {
          "base_uri": "https://localhost:8080/"
        },
        "outputId": "457ab35d-101f-4b27-8d69-f29ed1ca5f52"
      },
      "source": [
        "x = traindata['NewDescription']\n",
        "y = traindata['Status']\n",
        "\n",
        "x_train, x_test, y_train, y_test = train_test_split(x, y,test_size=0.6,random_state =225)\n",
        "                                                    \n",
        "\n",
        "print(\"x_train = \" ,len(x_train))\n",
        "print(\"x_test  = \" ,len(x_test))\n",
        "print(\"y_train = \" ,len(y_train))\n",
        "print(\"y_test  = \" ,len(y_test))\n"
      ],
      "execution_count": null,
      "outputs": [
        {
          "output_type": "stream",
          "text": [
            "x_train =  15572\n",
            "x_test  =  23360\n",
            "y_train =  15572\n",
            "y_test  =  23360\n"
          ],
          "name": "stdout"
        }
      ]
    },
    {
      "cell_type": "markdown",
      "metadata": {
        "id": "QaiiUl8z-c4U"
      },
      "source": [
        " **Model Training**"
      ]
    },
    {
      "cell_type": "code",
      "metadata": {
        "colab": {
          "base_uri": "https://localhost:8080/"
        },
        "id": "poEF3OCUm0-e",
        "outputId": "d7664a95-e25b-467a-da3a-ace850f7ee4a"
      },
      "source": [
        "print(x_train)"
      ],
      "execution_count": null,
      "outputs": [
        {
          "output_type": "stream",
          "text": [
            "24146    ['this', 'is', 'an', 'older', 'property', 'tha...\n",
            "22172    ['this', 'hotel', 'is', 'really', 'a', 'nightm...\n",
            "31963    ['absolute', 'gem', 'of', 'a', 'place', 'which...\n",
            "29848    ['myself', 'friends', 'all', 'in', 'our', 'mid...\n",
            "12531    ['the', 'drury', 'plaza', 'hotel', 'riverwalk'...\n",
            "                               ...                        \n",
            "7519     ['i', 'spent', 'a', 'week', 'here', 'and', 'th...\n",
            "30765    ['i', 'am', 'frequently', 'in', 'denver', 'whe...\n",
            "29870    ['it', 'is', 'unclear', 'how', 'anyone', 'rate...\n",
            "26912    ['my', 'wife', 'and', 'i', 'stayed', 'at', 'th...\n",
            "24227    ['overall', 'this', 'is', 'a', 'good', 'hotel'...\n",
            "Name: NewDescription, Length: 15572, dtype: object\n"
          ],
          "name": "stdout"
        }
      ]
    },
    {
      "cell_type": "code",
      "metadata": {
        "id": "VyKjA5aC6DdN"
      },
      "source": [
        "tvec = TfidfVectorizer()\n",
        "clf = LogisticRegression(solver='lbfgs', max_iter=1000)\n",
        "model = Pipeline([('vectorizer', tvec), ('classifier', clf)])"
      ],
      "execution_count": null,
      "outputs": []
    },
    {
      "cell_type": "code",
      "metadata": {
        "id": "0FnoAK4pXIVW"
      },
      "source": [
        "model.fit(x_train, y_train)\n",
        "y_pred = model.predict(x_test)"
      ],
      "execution_count": null,
      "outputs": []
    },
    {
      "cell_type": "code",
      "metadata": {
        "id": "oGp7J2mLl_V_",
        "colab": {
          "base_uri": "https://localhost:8080/"
        },
        "outputId": "4c5795db-e142-4aaf-aaf6-16a713b2092f"
      },
      "source": [
        "\n",
        "\n",
        "from sklearn.metrics import confusion_matrix \n",
        "from sklearn.metrics import accuracy_score, precision_score, recall_score\n",
        "print(\"Accuracy = \" ,accuracy_score(y_pred, y_test))\n"
      ],
      "execution_count": null,
      "outputs": [
        {
          "output_type": "stream",
          "text": [
            "Accuracy =  0.8773972602739726\n"
          ],
          "name": "stdout"
        }
      ]
    },
    {
      "cell_type": "code",
      "metadata": {
        "id": "Gh7dCpsuyeib",
        "colab": {
          "base_uri": "https://localhost:8080/"
        },
        "outputId": "91b2180a-a569-4869-aca9-9c1d702cf1b4"
      },
      "source": [
        "print(\"Precision = \", precision_score(y_pred, y_test, average=\"weighted\"))"
      ],
      "execution_count": null,
      "outputs": [
        {
          "output_type": "stream",
          "text": [
            "Precision =  0.8870193082401084\n"
          ],
          "name": "stdout"
        }
      ]
    },
    {
      "cell_type": "code",
      "metadata": {
        "id": "r0yvI8AGyl2v",
        "colab": {
          "base_uri": "https://localhost:8080/"
        },
        "outputId": "0b0a6e22-3db9-4667-e8b5-1a6905ff9f57"
      },
      "source": [
        "\n",
        "print(\"Recall =  \", recall_score(y_pred, y_test, average=\"weighted\"))"
      ],
      "execution_count": null,
      "outputs": [
        {
          "output_type": "stream",
          "text": [
            "Recall =   0.8773972602739726\n"
          ],
          "name": "stdout"
        }
      ]
    },
    {
      "cell_type": "code",
      "metadata": {
        "id": "wXTuLCheYfm-",
        "colab": {
          "base_uri": "https://localhost:8080/"
        },
        "outputId": "8e6bfd0e-9a35-49ab-c363-60eb26baf198"
      },
      "source": [
        "\n",
        "example = [\"I am  not happy\"]\n",
        "result=model.predict(example)\n",
        "print(result)"
      ],
      "execution_count": null,
      "outputs": [
        {
          "output_type": "stream",
          "text": [
            "['not happy']\n"
          ],
          "name": "stdout"
        }
      ]
    },
    {
      "cell_type": "code",
      "metadata": {
        "id": "Ok7LHEYXYk0N",
        "colab": {
          "base_uri": "https://localhost:8080/"
        },
        "outputId": "4bea590a-4e6b-4a69-ebda-83767a5a36a0"
      },
      "source": [
        "from sklearn.metrics import confusion_matrix\n",
        "\n",
        "r = confusion_matrix(y_test, y_pred)\n",
        "print(r)"
      ],
      "execution_count": null,
      "outputs": [
        {
          "output_type": "stream",
          "text": [
            "[[14963   889]\n",
            " [ 1975  5533]]\n"
          ],
          "name": "stdout"
        }
      ]
    },
    {
      "cell_type": "code",
      "metadata": {
        "colab": {
          "base_uri": "https://localhost:8080/",
          "height": 35
        },
        "id": "ULZ1yzR45-IH",
        "outputId": "83207a9a-d0c4-424c-c503-0e9b0ef8d4bd"
      },
      "source": [
        "\n",
        "with open('senti.pkl','wb') as f:\n",
        "    pickle.dump(model,f)\n",
        "  \n",
        "lr_model = pickle.load(open('senti.pkl','rb'))\n",
        " \n",
        "lr_model.predict([\"I am  sad\"])[0]"
      ],
      "execution_count": null,
      "outputs": [
        {
          "output_type": "execute_result",
          "data": {
            "application/vnd.google.colaboratory.intrinsic+json": {
              "type": "string"
            },
            "text/plain": [
              "'not happy'"
            ]
          },
          "metadata": {
            "tags": []
          },
          "execution_count": 336
        }
      ]
    }
  ]
}